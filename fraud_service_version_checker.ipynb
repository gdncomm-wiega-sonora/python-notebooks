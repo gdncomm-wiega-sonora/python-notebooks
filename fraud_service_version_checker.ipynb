{
 "cells": [
  {
   "cell_type": "code",
   "execution_count": 11,
   "id": "54f29119-fe1f-4800-839d-8107e8615400",
   "metadata": {},
   "outputs": [
    {
     "name": "stdout",
     "output_type": "stream",
     "text": [
      "+--------------------------+-------------+-----------------+\n",
      "| Service Name             | QA2 Version | Preprod Version |\n",
      "+--------------------------+-------------+-----------------+\n",
      "| fraud-ui-dashboard       | 0.99.0-10   | 0.99.0-8        |\n",
      "| fraud-aggregator-next    | 1.110.0-3   | 1.109.0-1       |\n",
      "| fraud-aggregator         | 1.109.0-1   | 1.109.0-1       |\n",
      "| fraud-rule-next          | 1.110.0-4   | 1.109.0-6       |\n",
      "| fraud-rule               | 1.109.0-6   | 1.109.0-6       |\n",
      "| fraud-bridge-next        | 1.103.0-1   | 1.102.0-1       |\n",
      "| fraud-bridge             | 1.102.0-1   | 1.102.0-1       |\n",
      "| fraud-map-next           | 1.95.0-1    | 1.94.0-1        |\n",
      "| fraud-map                | 1.94.0-1    | 1.94.0-1        |\n",
      "| fraud-grouping-platform  | 1.29.0-1    | 1.29.0-1        |\n",
      "| agile-data-platform      | 0.0.11-2    | 0.0.11-2        |\n",
      "| fraud-merchant           | 1.20.0-6    | 1.20.0-6        |\n",
      "| fraud-api                | 1.16.0-2    | 1.16.0-2        |\n",
      "| fraud-graph-platform-api | 1.28.0-1    | 1.28.0-1        |\n",
      "+--------------------------+-------------+-----------------+\n"
     ]
    }
   ],
   "source": [
    "import requests\n",
    "from prettytable import PrettyTable\n",
    "\n",
    "# --- Configuration ---\n",
    "services = [\n",
    "    \"fraud-ui-dashboard\",\n",
    "    \"fraud-aggregator-next\",\n",
    "    \"fraud-aggregator\",\n",
    "    \"fraud-rule-next\",\n",
    "    \"fraud-rule\",\n",
    "    \"fraud-bridge-next\",\n",
    "    \"fraud-bridge\",\n",
    "    \"fraud-map-next\",\n",
    "    \"fraud-map\",\n",
    "    \"fraud-grouping-platform\",\n",
    "    \"agile-data-platform\",\n",
    "    \"fraud-merchant\",\n",
    "    \"fraud-api\",\n",
    "    \"fraud-graph-platform-api\"\n",
    "]\n",
    "\n",
    "environments = [\"qa2\", \"preprod\"]\n",
    "\n",
    "# --- Function to get version from each service ---\n",
    "def get_version(service, env):\n",
    "    if service == \"fraud-ui-dashboard\":\n",
    "        url = f\"https://{service}-{env}-gcp.gdn-app.com/version\"\n",
    "    else:\n",
    "        url = f\"http://{service}.{env}-sg.cld/version\"\n",
    "    \n",
    "    try:\n",
    "        response = requests.get(url, timeout=5)\n",
    "        if response.status_code == 200:\n",
    "            for line in response.text.splitlines():\n",
    "                if \"maven.pom.version\" in line:\n",
    "                    return line.split(\"=\")[-1].strip()\n",
    "            return \"version not found\"\n",
    "        else:\n",
    "            return f\"error ({response.status_code})\"\n",
    "    except Exception as e:\n",
    "        return f\"failed ({str(e)})\"\n",
    "\n",
    "# --- Create output table ---\n",
    "table = PrettyTable()\n",
    "table.field_names = [\"Service Name\", \"QA2 Version\", \"Preprod Version\"]\n",
    "table.align = \"l\"\n",
    "\n",
    "for service in services:\n",
    "    qa2_version = get_version(service, \"qa2\")\n",
    "    preprod_version = get_version(service, \"preprod\")\n",
    "    table.add_row([service, qa2_version, preprod_version])\n",
    "\n",
    "# --- Print result ---\n",
    "print(table)\n"
   ]
  },
  {
   "cell_type": "code",
   "execution_count": null,
   "id": "9927ce52-41f0-455d-a80f-10a3907d87f3",
   "metadata": {},
   "outputs": [],
   "source": []
  }
 ],
 "metadata": {
  "kernelspec": {
   "display_name": "Python 3 (ipykernel)",
   "language": "python",
   "name": "python3"
  },
  "language_info": {
   "codemirror_mode": {
    "name": "ipython",
    "version": 3
   },
   "file_extension": ".py",
   "mimetype": "text/x-python",
   "name": "python",
   "nbconvert_exporter": "python",
   "pygments_lexer": "ipython3",
   "version": "3.12.8"
  }
 },
 "nbformat": 4,
 "nbformat_minor": 5
}
